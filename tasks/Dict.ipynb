{
 "cells": [
  {
   "cell_type": "code",
   "execution_count": 13,
   "metadata": {},
   "outputs": [
    {
     "name": "stdout",
     "output_type": "stream",
     "text": [
      "AMD\n"
     ]
    }
   ],
   "source": [
    "#Какая валюта имеет минимальный курс по отношению к рублю за 1 единицу? \n",
    "currency = {\n",
    "    'AMD': {\n",
    "        'Name': 'Армянских драмов',\n",
    "        'Nominal': 100,\n",
    "        'Value': 13.121\n",
    "    },\n",
    "\n",
    "    'AUD': {\n",
    "        'Name': 'Австралийский доллар',\n",
    "        'Nominal': 1,\n",
    "        'Value': 45.5309\n",
    "    },\n",
    "\n",
    "    'INR': {\n",
    "        'Name': 'Индийских рупий',\n",
    "        'Nominal': 100,\n",
    "        'Value': 92.9658\n",
    "    },\n",
    "\n",
    "    'MDL': {\n",
    "        'Name': 'Молдавских леев',\n",
    "        'Nominal': 10,\n",
    "        'Value': 36.9305\n",
    "    },\n",
    "}\n",
    "result = \"\"\n",
    "min_course = \"\"\n",
    "for code, dict in currency.items():\n",
    "    course = dict['Value']/dict['Nominal']\n",
    "    #print(course, min_course)\n",
    "    if min_course == \"\" or course<min_course:\n",
    "        min_course = course\n",
    "        result = code\n",
    "print(result)"
   ]
  },
  {
   "cell_type": "code",
   "execution_count": 11,
   "metadata": {},
   "outputs": [
    {
     "name": "stdout",
     "output_type": "stream",
     "text": [
      "Количество клиентов, которые совершали какие-либо действия:  51\n",
      "Количество действий, которое совершил клиент под номером 62602 12\n",
      "Количество действий с категорией page, которое совершил клиент под номером 62602 9\n",
      "Количество клиентов, которые совершили действия с категорией report:  3\n",
      "Идентификаторы клиентов, которые совершили действия с категорией report:  [58113, 60459, 62602]\n"
     ]
    }
   ],
   "source": [
    "#файл логов\n",
    "import json\n",
    "import collections\n",
    "with open('data.json', 'rb') as infile:\n",
    "    data = json.load(infile)\n",
    "data_list = data['events_data']  \n",
    "all_actions = collections.Counter()\n",
    "pages = collections.Counter()\n",
    "reports = collections.Counter()\n",
    "for i in data_list:\n",
    "    client = i[\"client_id\"]\n",
    "    category = i[\"category\"]\n",
    "    all_actions[client] +=1\n",
    "    if category == \"page\":\n",
    "        pages[client] +=1 \n",
    "    elif category == \"report\":\n",
    "        reports[client] +=1    \n",
    "print(\"Количество клиентов, которые совершали какие-либо действия: \", len(all_actions))   \n",
    "print(\"Количество действий, которое совершил клиент под номером 62602\", all_actions[60459])\n",
    "print(\"Количество действий с категорией page, которое совершил клиент под номером 62602\", pages[62602])\n",
    "print(\"Количество клиентов, которые совершили действия с категорией report: \", len(reports)) \n",
    "print(\"Идентификаторы клиентов, которые совершили действия с категорией report: \", sorted(reports.keys()))"
   ]
  },
  {
   "cell_type": "code",
   "execution_count": 89,
   "metadata": {},
   "outputs": [
    {
     "name": "stdout",
     "output_type": "stream",
     "text": [
      "Counter({'yandex.ru': 5, 'mail.ru': 3, 'gmail.com': 2})\n"
     ]
    }
   ],
   "source": [
    "#количество электронных адресов из списка emails_list, зарегистрированных на каждом домене\n",
    "emails_list = ['vasya@mail.ru', \n",
    "          'akakiy@yandex.ru', \n",
    "          'spyderman@yandex.ru', \n",
    "          'XFiles@gmail.com', \n",
    "          'hello@mail.ru', \n",
    "          'noname@gmail.com', \n",
    "          'DonaldTrump@mail.ru', \n",
    "          'a768#af@yandex.ru', \n",
    "          'Ivan_Ivanovich@yandex.ru', \n",
    "          'thebestmail@yandex.ru']\n",
    "counter = collections.Counter()         \n",
    "for email in emails_list:\n",
    "    pos = email.find(\"@\")\n",
    "    domen = email[pos+1:]\n",
    "    counter[domen] +=1\n",
    "print(counter)    "
   ]
  },
  {
   "cell_type": "code",
   "execution_count": 10,
   "metadata": {},
   "outputs": [
    {
     "name": "stdout",
     "output_type": "stream",
     "text": [
      "рПгоарммсиыт- э оту тсорсйвт,ап ербоарузщюеик фоие н вок.д\n"
     ]
    }
   ],
   "source": [
    "#Поменять местами каждые 2 соседние буквы\n",
    "proverb = 'Программисты - это устройства, преобразующие кофеин в код.'\n",
    "new_proverb  = \"\"\n",
    "length = len(proverb)\n",
    "for i in range(1,length,2):\n",
    "    new_proverb += proverb[i]+proverb[i-1]\n",
    "if length%2==1:\n",
    "    new_proverb += proverb[-1]\n",
    "print(new_proverb)    "
   ]
  },
  {
   "cell_type": "code",
   "execution_count": 9,
   "metadata": {},
   "outputs": [
    {
     "name": "stdout",
     "output_type": "stream",
     "text": [
      "Слово \"боб\" является палиндромом\n",
      "Слово наоборот:  боб\n"
     ]
    }
   ],
   "source": [
    "#Проверить, является ли слово палиндромом\n",
    "basic_word = 'боб'\n",
    "inverted_word = \"\"\n",
    "length = len(basic_word)\n",
    "for i in range(1, length+1):\n",
    "     inverted_word += basic_word[-i]\n",
    "if  basic_word == inverted_word:    \n",
    "    print('Слово \"'+basic_word+'\" является палиндромом')\n",
    "else:    \n",
    "    print('Слово \"'+basic_word+'\" - это не палиндром')\n",
    "print(\"Слово наоборот: \", inverted_word)    "
   ]
  },
  {
   "cell_type": "code",
   "execution_count": 8,
   "metadata": {},
   "outputs": [
    {
     "name": "stdout",
     "output_type": "stream",
     "text": [
      "['расширяемый', 'программированию', 'пресмыкающихся', 'Летающий']\n",
      "Количество совпадений:  4\n",
      "['была н', 'ачата в', 'Гвидо в', 'Для р', 'требовался р', 'и Г', 'видо н', 'на д', 'некоторые н', 'аработки д', 'ориентированного н', 'обучение п', 'года Г', 'группе н', 'языка п', 'роизошло в', 'овсе н', 'вида п', 'популярного б', 'ританского к', 'омедийного т', 'Монти П']\n",
      "Количество совпадений:  22\n"
     ]
    }
   ],
   "source": [
    "import re\n",
    "#сколько слов, содержащих русские буквы \"а\" и \"и\", разделённые любыми двумя буквами, содержится в переменной text?\n",
    "text = 'Разработка языка Python была начата в конце 1980-х годов сотрудником голландского института CWI Гвидо ван Россумом. Для распределённой ОС Amoeba требовался расширяемый скриптовый язык, и Гвидо начал писать Python на досуге, позаимствовав некоторые наработки для языка ABC (Гвидо участвовал в разработке этого языка, ориентированного на обучение программированию). В феврале 1991 года Гвидо опубликовал исходный текст в группе новостей alt.sources. Название языка произошло вовсе не от вида пресмыкающихся. Автор назвал язык в честь популярного британского комедийного телешоу 1970-х \"Летающий цирк Монти Пайтона\".'\n",
    "pattern = re.compile(\"[а-яА-Я]*[Аа][а-яА-Я][а-яА-Я][Ии][а-яА-Я]*\")\n",
    "match = pattern.findall(text)\n",
    "print(match)\n",
    "print(\"Количество совпадений: \", len(match))\n",
    "\n",
    "#парs слов, в которых первое слово заканчивается на гласную русскую букву, второе — начинается на согласную\n",
    "pattern = re.compile(\"[а-яА-Я]*[АаИиУуЕеЫыОоЭэЯяЮю]\\s[б-джзк-нп-тф-ъьБ-ДЖЗК-НП-ТФ-ЪЬ]\")\n",
    "match = pattern.findall(text)\n",
    "print(match)\n",
    "print(\"Количество совпадений: \", len(match))"
   ]
  },
  {
   "cell_type": "code",
   "execution_count": 5,
   "metadata": {},
   "outputs": [
    {
     "name": "stdout",
     "output_type": "stream",
     "text": [
      "Кол-во студентов, родители которых бакалавры:  118\n",
      "Кол-во различных уровней образования родителей студентов:  6\n",
      "% хорошо позавтракавших студентов:  64.5\n",
      "Кол-во студентов с этнической группой C:  319\n",
      "Кол-во различных этнических групп:  5\n",
      "Средняя оченка за чтение:  69.169\n",
      "Кол-во студентов, чья оценка за чтение ниже средней:  487\n",
      "Средняя оценка за чтение среди девочек:  72.60810810810811\n",
      "Средняя оценка за чтение среди мальчиков:  65.47302904564316\n",
      "Средняя оценка за чтение среди студентов со 100 баллами по математике:  97.85714285714286\n",
      "Средняя оценка за письмо среди хорошо покушавших:  63.02253521126761\n",
      "Кол-во студентов, чья оценка за письмо выше 90: 68\n",
      "% хорошо позавтракавших студентов, чья оценка за письмо выше 90: 86.76470588235294\n"
     ]
    }
   ],
   "source": [
    "f = open(\"StudentsPerformance.csv\")\n",
    "good_mark = 90\n",
    "count = 0\n",
    "levels = []\n",
    "good_lunch = 0\n",
    "students_count = 0\n",
    "et_group_c = 0\n",
    "groups = []\n",
    "reading_marks = []\n",
    "reading_marks_girls = []\n",
    "reading_marks_boys = []\n",
    "reading_marks_math100 = []\n",
    "girls = 0\n",
    "writing_marks = []\n",
    "good_writers_and_eatters = 0\n",
    "writing_marks_bad_eatters = []\n",
    "for line in f:  \n",
    "    info = line.split(\",\")\n",
    "    if info[0][1:-1] == \"gender\":\n",
    "        continue\n",
    "    else:    \n",
    "        parental_level = info[2][1:-1]\n",
    "        lunch = info[3][1:-1]\n",
    "        students_count += 1\n",
    "        et_group = info[1][1:-1]\n",
    "        reading_mark = int(info[6][1:-1]) \n",
    "        reading_marks.append(reading_mark)\n",
    "        writing_mark = int(info[7][1:-2]) \n",
    "        #print(info[7][1:-2])\n",
    "        #writing_mark = 0\n",
    "        writing_marks.append(writing_mark)\n",
    "        gender = info[0][1:-1]\n",
    "        math_score = int(info[5][1:-1])\n",
    "        if parental_level not in levels:\n",
    "            levels.append(parental_level)\n",
    "        #print(parental_level)\n",
    "        if parental_level == \"bachelor's degree\":\n",
    "            count += 1\n",
    "        #print(lunch)\n",
    "        if lunch == \"standard\":\n",
    "            good_lunch += 1\n",
    "            if writing_mark > good_mark:\n",
    "                good_writers_and_eatters += 1\n",
    "        else:\n",
    "            writing_marks_bad_eatters.append(writing_mark)\n",
    "        if et_group == \"group C\":\n",
    "            et_group_c += 1  \n",
    "        if et_group not in groups:\n",
    "            groups.append(et_group)\n",
    "        if gender == \"female\":\n",
    "            reading_marks_girls.append(reading_mark)\n",
    "        else:\n",
    "            reading_marks_boys.append(reading_mark)\n",
    "        if math_score==100:    \n",
    "            reading_marks_math100.append(reading_mark)\n",
    "if students_count>0:\n",
    "    good_lunch_percent = good_lunch*100/(students_count)\n",
    "else:\n",
    "    good_lunch_percent = 0\n",
    "if len(reading_marks_girls) == 0:\n",
    "    avg_reading_mark_girls = 0\n",
    "else:\n",
    "    avg_reading_mark_girls = sum(reading_marks_girls)/len(reading_marks_girls)\n",
    "if len(reading_marks_boys) == 0:\n",
    "    avg_reading_mark_boys = 0\n",
    "else:\n",
    "    avg_reading_mark_boys = sum(reading_marks_boys)/len(reading_marks_boys)\n",
    "if len(writing_marks_bad_eatters) == 0:\n",
    "    avg_writing_marks_bad_eatters = 0\n",
    "else:\n",
    "    avg_writing_marks_bad_eatters = sum(writing_marks_bad_eatters)/len(writing_marks_bad_eatters)  \n",
    "if len(reading_marks_math100) == 0:\n",
    "    avg_reading_marks_math100 = 0\n",
    "else:\n",
    "    avg_reading_marks_math100 = sum(reading_marks_math100)/len(reading_marks_math100) \n",
    "bad_readers = 0\n",
    "avg_reading_mark = sum(reading_marks)/len(reading_marks)\n",
    "for mark in reading_marks:\n",
    "    if mark<avg_reading_mark:\n",
    "        bad_readers+=1\n",
    "good_writers = 0\n",
    "for mark in writing_marks:\n",
    "    if mark>good_mark:\n",
    "        good_writers+=1\n",
    "if good_writers>0:\n",
    "    good_writers_and_eatters_percent = good_writers_and_eatters*100/(good_writers)\n",
    "else:\n",
    "    good_writers_and_eatters_percent = 0        \n",
    "print(\"Кол-во студентов, родители которых бакалавры: \", count)\n",
    "print(\"Кол-во различных уровней образования родителей студентов: \", len(levels))\n",
    "print(\"% хорошо позавтракавших студентов: \", good_lunch_percent)\n",
    "print(\"Кол-во студентов с этнической группой C: \", et_group_c)\n",
    "print(\"Кол-во различных этнических групп: \", len(groups))\n",
    "print(\"Средняя оченка за чтение: \", avg_reading_mark)\n",
    "print(\"Кол-во студентов, чья оценка за чтение ниже средней: \", bad_readers)\n",
    "print(\"Средняя оценка за чтение среди девочек: \", avg_reading_mark_girls)\n",
    "print(\"Средняя оценка за чтение среди мальчиков: \", avg_reading_mark_boys)\n",
    "print(\"Средняя оценка за чтение среди студентов со 100 баллами по математике: \", avg_reading_marks_math100)\n",
    "print(\"Средняя оценка за письмо среди хорошо покушавших: \", avg_writing_marks_bad_eatters)\n",
    "print(\"Кол-во студентов, чья оценка за письмо выше {}: {}\".format(good_mark,good_writers))\n",
    "print(\"% хорошо позавтракавших студентов, чья оценка за письмо выше {}: {}\".format(good_mark,good_writers_and_eatters_percent))"
   ]
  },
  {
   "cell_type": "code",
   "execution_count": 58,
   "metadata": {},
   "outputs": [
    {
     "name": "stdout",
     "output_type": "stream",
     "text": [
      "{'female': {'none': 334, 'completed': 184}, 'male': {'none': 308, 'completed': 174}}\n",
      "174\n"
     ]
    }
   ],
   "source": [
    "#количество окончивших/неокончивших курсы в зависисмости от пола\n",
    "f = open(\"StudentsPerformance.csv\")\n",
    "dict_gend_prep = {}\n",
    "for line in f:\n",
    "    info = line.split(\",\")\n",
    "    gender = info[0][1:-1]\n",
    "    if gender == \"gender\":  \n",
    "        continue\n",
    "    else:    \n",
    "        prep = info[4][1:-1]\n",
    "        if gender in dict_gend_prep:\n",
    "            if prep in dict_gend_prep[gender]:\n",
    "                dict_gend_prep[gender][prep] += 1\n",
    "            else:\n",
    "                dict_gend_prep[gender][prep] = 1\n",
    "        else:\n",
    "            dict_prep = {}\n",
    "            dict_prep[prep] = 1\n",
    "            dict_gend_prep[gender] = dict_prep\n",
    "print(dict_gend_prep)\n",
    "print(dict_gend_prep['male']['completed'])"
   ]
  },
  {
   "cell_type": "code",
   "execution_count": 62,
   "metadata": {},
   "outputs": [
    {
     "name": "stdout",
     "output_type": "stream",
     "text": [
      "{'female': {\"bachelor's degree\": 63, 'some college': 118, \"master's degree\": 36, \"associate's degree\": 116, 'high school': 94, 'some high school': 91}, 'male': {\"associate's degree\": 106, 'some college': 108, 'high school': 102, \"master's degree\": 23, \"bachelor's degree\": 55, 'some high school': 88}}\n",
      "36\n"
     ]
    }
   ],
   "source": [
    "#количество студентов с группировкой по полу и образованию родителей\n",
    "f = open(\"StudentsPerformance.csv\")\n",
    "dict_gend_level = {}\n",
    "for line in f:\n",
    "    info = line.split(\",\")\n",
    "    gender = info[0][1:-1]\n",
    "    if gender == \"gender\":  \n",
    "        continue\n",
    "    else:    \n",
    "        level = info[2][1:-1]\n",
    "        if gender in dict_gend_level:\n",
    "            if level in dict_gend_level[gender]:\n",
    "                dict_gend_level[gender][level] += 1\n",
    "            else:\n",
    "                dict_gend_level[gender][level] = 1\n",
    "        else:\n",
    "            dict_level = {}\n",
    "            dict_level[level] = 1\n",
    "            dict_gend_level[gender] = dict_level\n",
    "print(dict_gend_level)\n",
    "print(dict_gend_level['female'][\"master's degree\"])"
   ]
  },
  {
   "cell_type": "code",
   "execution_count": 67,
   "metadata": {},
   "outputs": [
    {
     "name": "stdout",
     "output_type": "stream",
     "text": [
      "{'group B': {'none': 122, 'completed': 68}, 'group C': {'completed': 117, 'none': 202}, 'group A': {'none': 58, 'completed': 31}, 'group D': {'completed': 82, 'none': 180}, 'group E': {'none': 80, 'completed': 60}}\n",
      "117\n"
     ]
    }
   ],
   "source": [
    "#способность окончить курсы в зависимости от этнической группы\n",
    "f = open(\"StudentsPerformance.csv\")\n",
    "dict_ethn_prep = {}\n",
    "for line in f:\n",
    "    info = line.split(\",\")\n",
    "    ethn = info[1][1:-1]\n",
    "    if info[0][1:-1] == \"gender\":  \n",
    "        continue\n",
    "    else:    \n",
    "        prep = info[4][1:-1]\n",
    "        if ethn in dict_ethn_prep:\n",
    "            if prep in dict_ethn_prep[ethn]:\n",
    "                dict_ethn_prep[ethn][prep] += 1\n",
    "            else:\n",
    "                dict_ethn_prep[ethn][prep] = 1\n",
    "        else:\n",
    "            dict_prep = {}\n",
    "            dict_prep[prep] = 1\n",
    "            dict_ethn_prep[ethn] = dict_prep\n",
    "print(dict_ethn_prep)\n",
    "print(dict_ethn_prep['group C']['completed'])"
   ]
  },
  {
   "cell_type": "code",
   "execution_count": 1,
   "metadata": {},
   "outputs": [
    {
     "name": "stdout",
     "output_type": "stream",
     "text": [
      "{'female': {\"bachelor's degree\": {'bad': 56, 'good': 7}, 'some college': {'bad': 116, 'good': 2}, \"master's degree\": {'bad': 34, 'good': 2}, \"associate's degree\": {'bad': 109, 'good': 7}, 'high school': {'bad': 93, 'good': 1}, 'some high school': {'bad': 89, 'good': 2}}, 'male': {\"associate's degree\": {'bad': 97, 'good': 9}, 'some college': {'bad': 99, 'good': 9}, 'high school': {'bad': 101, 'good': 1}, \"master's degree\": {'bad': 21, 'good': 2}, \"bachelor's degree\": {'bad': 50, 'good': 5}, 'some high school': {'bad': 85, 'good': 3}}}\n",
      "2\n"
     ]
    }
   ],
   "source": [
    "#оценки в зависимости от пола и образования родителей\n",
    "f = open(\"StudentsPerformance.csv\")\n",
    "dict_gend_level_math = {}\n",
    "good_mark =90\n",
    "for line in f:\n",
    "    info = line.split(\",\")\n",
    "    gender = info[0][1:-1]\n",
    "    if gender == \"gender\":  \n",
    "        continue\n",
    "    else:    \n",
    "        level = info[2][1:-1]\n",
    "        math_score = int(info[5][1:-1])\n",
    "        if math_score>good_mark:\n",
    "            math = \"good\"\n",
    "        else:\n",
    "            math = \"bad\"\n",
    "        if gender in dict_gend_level_math:\n",
    "            if level in dict_gend_level_math[gender]:\n",
    "                if math in dict_gend_level_math[gender][level]:\n",
    "                    dict_gend_level_math[gender][level][math] += 1\n",
    "                else:\n",
    "                    dict_gend_level_math[gender][level][math] = 1\n",
    "            else:\n",
    "                dict_math = {}\n",
    "                dict_math[math] = 1\n",
    "                dict_gend_level_math[gender][level]= dict_math\n",
    "        else:\n",
    "            dict_math = {}\n",
    "            dict_math[math] = 1\n",
    "            dict_level = {}\n",
    "            dict_level[level] = dict_math\n",
    "            dict_gend_level_math[gender] = dict_level\n",
    "print(dict_gend_level_math)\n",
    "print(dict_gend_level_math['female'][\"master's degree\"]['good'])"
   ]
  },
  {
   "cell_type": "code",
   "execution_count": null,
   "metadata": {},
   "outputs": [],
   "source": []
  }
 ],
 "metadata": {
  "kernelspec": {
   "display_name": "Python 3",
   "language": "python",
   "name": "python3"
  },
  "language_info": {
   "codemirror_mode": {
    "name": "ipython",
    "version": 3
   },
   "file_extension": ".py",
   "mimetype": "text/x-python",
   "name": "python",
   "nbconvert_exporter": "python",
   "pygments_lexer": "ipython3",
   "version": "3.7.4"
  }
 },
 "nbformat": 4,
 "nbformat_minor": 2
}
